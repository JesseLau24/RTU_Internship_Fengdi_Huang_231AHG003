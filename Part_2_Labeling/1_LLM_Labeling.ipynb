{
 "cells": [
  {
   "cell_type": "code",
   "execution_count": 1,
   "id": "b3246fee",
   "metadata": {},
   "outputs": [
    {
     "name": "stdout",
     "output_type": "stream",
     "text": [
      "📊 Total Comments (rows): 315\n"
     ]
    }
   ],
   "source": [
    "import pandas as pd\n",
    "\n",
    "# File Directory\n",
    "file_path = \"Canada_CSV/may_7_merged_comments.csv\"\n",
    "\n",
    "# Load Dataframe\n",
    "df = pd.read_csv(file_path)\n",
    "\n",
    "# Let's see how many rows of data are there\n",
    "print(f\"📊 Total Comments (rows): {len(df)}\")"
   ]
  },
  {
   "cell_type": "code",
   "execution_count": 2,
   "id": "0b59f5a7",
   "metadata": {},
   "outputs": [
    {
     "name": "stdout",
     "output_type": "stream",
     "text": [
      "✅ Added unique ID 'llm_tracker'!\n"
     ]
    }
   ],
   "source": [
    "import pandas as pd\n",
    "\n",
    "input_path = \"Canada_CSV/may_7_merged_comments.csv\"\n",
    "output_path = \"Canada_CSV/may_7_llm_tracker.csv\"\n",
    "\n",
    "# Add llm_tracker as an unique ID\n",
    "df = pd.read_csv(input_path)\n",
    "df.insert(0, \"llm_tracker\", range(1, len(df) + 1))  # Starting from 1\n",
    "df.to_csv(output_path, index=False)\n",
    "print(\"✅ Added unique ID 'llm_tracker'!\")"
   ]
  },
  {
   "cell_type": "code",
   "execution_count": null,
   "id": "a8a78d71",
   "metadata": {},
   "outputs": [
    {
     "name": "stdout",
     "output_type": "stream",
     "text": [
      "[1] Processing comment (llm_tracker 1): 好像不太活跃啊这个，有群吗😁...\n",
      "[2] Processing comment (llm_tracker 2): https://t.me/+NxH2ffR8-NtiMTMx...\n",
      "❌ Error at comment 2: too many values to unpack (expected 2)\n",
      "[3] Processing comment (llm_tracker 3): 人呢？...\n",
      "❌ Error at comment 3: too many values to unpack (expected 2)\n",
      "[4] Processing comment (llm_tracker 4): 在呢...\n",
      "[5] Processing comment (llm_tracker 5): 嗯？...\n",
      "[6] Processing comment (llm_tracker 6): ?...\n",
      "[7] Processing comment (llm_tracker 7): 有...\n",
      "[8] Processing comment (llm_tracker 8): 有人咩...\n",
      "❌ Error at comment 8: too many values to unpack (expected 2)\n",
      "[9] Processing comment (llm_tracker 9): 晚上好...\n",
      "[10] Processing comment (llm_tracker 10): 分享下我对国家的计量标准。我对加拿大不熟悉，大家可以补充。  # 地缘政治安全程度  现在最惨的是乌...\n"
     ]
    }
   ],
   "source": [
    "import csv\n",
    "import requests\n",
    "import time\n",
    "import os\n",
    "\n",
    "# Ollama Local Language HTTP Local Host Config\n",
    "OLLAMA_API_URL = \"http://localhost:11434/api/generate\"\n",
    "MODEL_NAME = \"deepseek-r1:14b\"\n",
    "\n",
    "# File Directories\n",
    "input_csv = \"Canada_CSV/may_7_llm_tracker.csv\"\n",
    "output_csv = \"Canada_CSV/may_7_Processed.csv\"\n",
    "error_log_csv = \"Canada_CSV/may_7_Processed_error_log.csv\"\n",
    "\n",
    "# Prompt Template\n",
    "PROMPT_TEMPLATE = (\n",
    "    \"You are a Reddit comment analysis assistant.\\n\"\n",
    "    \"Your task is to analyze the following Reddit comment and classify it with:\\n\"\n",
    "    \"1. Whether the comment is related to studying abroad.\\n\"\n",
    "    \"2. A concise summary of the main topic.\\n\"\n",
    "    \"3. The overall sentiment.\\n\\n\"\n",
    "    \"Return your answer in this format (always on a single line):\\n\"\n",
    "    \"study_abroad: [true/false], topic: [short summary], sentiment: [positive/neutral/negative]\\n\\n\"\n",
    "    \"Comment: \\\"{text}\\\"\"\n",
    ")\n",
    "\n",
    "def classify_comment(text):\n",
    "    prompt = PROMPT_TEMPLATE.format(text=text.strip().replace(\"\\n\", \" \"))\n",
    "    response = requests.post(OLLAMA_API_URL, json={\n",
    "        \"model\": MODEL_NAME,\n",
    "        \"prompt\": prompt,\n",
    "        \"stream\": False\n",
    "    })\n",
    "\n",
    "    result = response.json()[\"response\"]\n",
    "\n",
    "    # Extract fields (ensure correct format)\n",
    "    parts = {k.strip(): v.strip() for k, v in [\n",
    "        pair.split(\":\") for pair in result.split(\",\") if \":\" in pair\n",
    "    ]}\n",
    "\n",
    "    return {\n",
    "        \"study_abroad\": parts.get(\"study_abroad\", \"false\"),\n",
    "        \"topic\": parts.get(\"topic\", \"none\"),\n",
    "        \"sentiment\": parts.get(\"sentiment\", \"none\")\n",
    "    }\n",
    "\n",
    "# --------- Checkpoint Resume ---------\n",
    "processed_ids = set()\n",
    "if os.path.exists(output_csv):\n",
    "    with open(output_csv, newline='', encoding='utf-8') as f:\n",
    "        reader = csv.DictReader(f)\n",
    "        processed_ids = {row[\"llm_tracker\"] for row in reader if \"llm_tracker\" in row}\n",
    "\n",
    "# --------- Main Logic ---------\n",
    "with open(input_csv, newline='', encoding='utf-8') as infile, \\\n",
    "     open(output_csv, 'a', newline='', encoding='utf-8') as outfile, \\\n",
    "     open(error_log_csv, 'a', newline='', encoding='utf-8') as errorfile:\n",
    "\n",
    "    reader = csv.DictReader(infile)\n",
    "    fieldnames = reader.fieldnames + [\"study_abroad\", \"topic\", \"sentiment\"]\n",
    "    writer = csv.DictWriter(outfile, fieldnames=fieldnames)\n",
    "    error_writer = csv.DictWriter(errorfile, fieldnames=[\"llm_tracker\", \"error_message\"])\n",
    "\n",
    "    # Write Headers\n",
    "    if os.stat(output_csv).st_size == 0:\n",
    "        writer.writeheader()\n",
    "    if os.stat(error_log_csv).st_size == 0:\n",
    "        error_writer.writeheader()\n",
    "\n",
    "    for idx, row in enumerate(reader):\n",
    "        comment_id = row.get(\"llm_tracker\")\n",
    "        if comment_id in processed_ids:\n",
    "            continue\n",
    "\n",
    "        comment = row.get(\"body\", \"\")\n",
    "        if not comment.strip():\n",
    "            continue\n",
    "\n",
    "        try:\n",
    "            print(f\"[{idx+1}] Processing comment (llm_tracker {comment_id}): {comment[:50]}...\")\n",
    "            tags = classify_comment(comment)\n",
    "            row.update(tags)\n",
    "            writer.writerow(row)\n",
    "            outfile.flush()\n",
    "        except Exception as e:\n",
    "            print(f\"❌ Error at comment {comment_id}: {e}\")\n",
    "            error_writer.writerow({\"llm_tracker\": comment_id, \"error_message\": str(e)})\n",
    "            errorfile.flush()\n",
    "        time.sleep(0.1)\n",
    "\n",
    "print(\"✅ All comments processed. Structured labels are written to output CSV files\")\n",
    "print(\"⚠️ Failed comments are written to error_log.csv。\")\n"
   ]
  }
 ],
 "metadata": {
  "kernelspec": {
   "display_name": "Internship",
   "language": "python",
   "name": "python3"
  },
  "language_info": {
   "codemirror_mode": {
    "name": "ipython",
    "version": 3
   },
   "file_extension": ".py",
   "mimetype": "text/x-python",
   "name": "python",
   "nbconvert_exporter": "python",
   "pygments_lexer": "ipython3",
   "version": "3.11.9"
  }
 },
 "nbformat": 4,
 "nbformat_minor": 5
}
